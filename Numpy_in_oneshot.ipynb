{
  "cells": [
    {
      "cell_type": "code",
      "execution_count": null,
      "metadata": {
        "id": "YvykxXnaoNSv"
      },
      "outputs": [],
      "source": []
    },
    {
      "cell_type": "markdown",
      "metadata": {
        "id": "F8pfdOKloYPa"
      },
      "source": [
        "# Numpy\n",
        "numpy is numerical python library used for numerical python .\n",
        "its store data in a form of 1D 2D & 3rd.\n",
        "Numpy is very fast .\n",
        "numpy is mutable and fixed type.\n"
      ]
    },
    {
      "cell_type": "markdown",
      "metadata": {
        "id": "N3ssMEfTqgSc"
      },
      "source": [
        "# Application of numpy\n",
        "Mathematics,\n",
        "plotting,\n",
        "Digital Photography,Machine Learning(Tensor)"
      ]
    },
    {
      "cell_type": "code",
      "execution_count": 1,
      "metadata": {
        "colab": {
          "base_uri": "https://localhost:8080/"
        },
        "id": "74qQY7uhohlG",
        "outputId": "773919f2-c719-446d-928d-002115b1ac56"
      },
      "outputs": [
        {
          "output_type": "stream",
          "name": "stdout",
          "text": [
            "Requirement already satisfied: numpy in /usr/local/lib/python3.10/dist-packages (1.25.2)\n"
          ]
        }
      ],
      "source": [
        " # load Numpy library\n",
        " ! pip install numpy # install the numpy\n",
        " import numpy as np"
      ]
    },
    {
      "cell_type": "code",
      "execution_count": 2,
      "metadata": {
        "colab": {
          "base_uri": "https://localhost:8080/"
        },
        "id": "-fykfOKJrBKG",
        "outputId": "5e14f053-7933-4c81-80cc-7aa88e1c7d7c"
      },
      "outputs": [
        {
          "output_type": "stream",
          "name": "stdout",
          "text": [
            "[1 2 4 5]\n"
          ]
        }
      ],
      "source": [
        "a=np.array([1,2,4,5],dtype='int16')   # 1D array\n",
        "print(a)"
      ]
    },
    {
      "cell_type": "code",
      "execution_count": 3,
      "metadata": {
        "colab": {
          "base_uri": "https://localhost:8080/"
        },
        "id": "xRNN2ZvHrJRp",
        "outputId": "e0931e60-9613-4df4-9d6e-e6f66777dbd3"
      },
      "outputs": [
        {
          "output_type": "stream",
          "name": "stdout",
          "text": [
            "[[2 3 4]\n",
            " [4 5 6]]\n"
          ]
        }
      ],
      "source": [
        "b=np.array([[2,3,4],[4,5,6]])  # 2D array\n",
        "print(b)"
      ]
    },
    {
      "cell_type": "code",
      "execution_count": 4,
      "metadata": {
        "colab": {
          "base_uri": "https://localhost:8080/"
        },
        "id": "rRp_1YnRrwLd",
        "outputId": "1e165749-0816-4ee6-e611-b5f07df9974f"
      },
      "outputs": [
        {
          "output_type": "execute_result",
          "data": {
            "text/plain": [
              "1"
            ]
          },
          "metadata": {},
          "execution_count": 4
        }
      ],
      "source": [
        "# get dimension\n",
        "a.ndim"
      ]
    },
    {
      "cell_type": "code",
      "execution_count": 5,
      "metadata": {
        "colab": {
          "base_uri": "https://localhost:8080/"
        },
        "id": "rTqGTHVvsDZP",
        "outputId": "45098b56-a1d4-4a81-afd2-14b280506de4"
      },
      "outputs": [
        {
          "output_type": "execute_result",
          "data": {
            "text/plain": [
              "(4,)"
            ]
          },
          "metadata": {},
          "execution_count": 5
        }
      ],
      "source": [
        "# Get shape\n",
        "a.shape\n",
        "\n"
      ]
    },
    {
      "cell_type": "code",
      "execution_count": 6,
      "metadata": {
        "colab": {
          "base_uri": "https://localhost:8080/"
        },
        "id": "G-dGzr0esL4o",
        "outputId": "43ccc41e-d95a-4818-ae86-e8d7d3eef39f"
      },
      "outputs": [
        {
          "output_type": "execute_result",
          "data": {
            "text/plain": [
              "(2, 3)"
            ]
          },
          "metadata": {},
          "execution_count": 6
        }
      ],
      "source": [
        "b.shape"
      ]
    },
    {
      "cell_type": "code",
      "execution_count": 7,
      "metadata": {
        "colab": {
          "base_uri": "https://localhost:8080/"
        },
        "id": "69XUD7e2sPoD",
        "outputId": "a2f55902-f124-4e7d-dd18-40d0d2900f5e"
      },
      "outputs": [
        {
          "output_type": "execute_result",
          "data": {
            "text/plain": [
              "dtype('int16')"
            ]
          },
          "metadata": {},
          "execution_count": 7
        }
      ],
      "source": [
        "a.dtype"
      ]
    },
    {
      "cell_type": "code",
      "execution_count": 7,
      "metadata": {
        "id": "EgpdeNVusn1g"
      },
      "outputs": [],
      "source": []
    },
    {
      "cell_type": "markdown",
      "metadata": {
        "id": "4tx3S75otUFd"
      },
      "source": [
        "## Accessing/changing specific elemnets ,rows,columns,etc"
      ]
    },
    {
      "cell_type": "code",
      "execution_count": 8,
      "metadata": {
        "colab": {
          "base_uri": "https://localhost:8080/"
        },
        "id": "5SE-t1Twtcxx",
        "outputId": "5841d162-5cd0-44e7-d73b-68724429016d"
      },
      "outputs": [
        {
          "output_type": "stream",
          "name": "stdout",
          "text": [
            "[[ 1  2  3  4  5  6  7]\n",
            " [ 8  9 10 11 12 13 14]]\n"
          ]
        }
      ],
      "source": [
        "a=np.array([[1,2,3,4,5,6,7 ],[8,9,10,11,12,13,14]])\n",
        "\n",
        "print(a)"
      ]
    },
    {
      "cell_type": "code",
      "execution_count": 9,
      "metadata": {
        "colab": {
          "base_uri": "https://localhost:8080/"
        },
        "id": "TqMUOWgxtrhn",
        "outputId": "cbf0af35-2bae-40f3-ae2c-ec5b6ba5c89e"
      },
      "outputs": [
        {
          "output_type": "stream",
          "name": "stdout",
          "text": [
            "10\n"
          ]
        }
      ],
      "source": [
        "# Get a specific Element [r,c]\n",
        "print(a[1,2]) # in first row i want to print 2nd columns"
      ]
    },
    {
      "cell_type": "code",
      "execution_count": 10,
      "metadata": {
        "colab": {
          "base_uri": "https://localhost:8080/"
        },
        "id": "grChsD18uIpR",
        "outputId": "b0396131-767c-4e6f-84db-7514d9e30245"
      },
      "outputs": [
        {
          "output_type": "execute_result",
          "data": {
            "text/plain": [
              "array([1, 2, 3, 4, 5, 6, 7])"
            ]
          },
          "metadata": {},
          "execution_count": 10
        }
      ],
      "source": [
        "# Get a specific row\n",
        "a[0, :]"
      ]
    },
    {
      "cell_type": "code",
      "execution_count": 11,
      "metadata": {
        "colab": {
          "base_uri": "https://localhost:8080/"
        },
        "id": "gReI3ZwyulUJ",
        "outputId": "3a92cd51-2b95-4fd7-eb86-e01eac36caea"
      },
      "outputs": [
        {
          "output_type": "execute_result",
          "data": {
            "text/plain": [
              "array([ 4, 11])"
            ]
          },
          "metadata": {},
          "execution_count": 11
        }
      ],
      "source": [
        "# Get a specific columns\n",
        "a[:,3]"
      ]
    },
    {
      "cell_type": "code",
      "execution_count": 12,
      "metadata": {
        "colab": {
          "base_uri": "https://localhost:8080/"
        },
        "id": "d8Dtxzh3u0bp",
        "outputId": "3dd2b523-a49f-4f39-f2d4-157b94729783"
      },
      "outputs": [
        {
          "output_type": "execute_result",
          "data": {
            "text/plain": [
              "array([2, 4, 6])"
            ]
          },
          "metadata": {},
          "execution_count": 12
        }
      ],
      "source": [
        "# Getting a little more fancy [startindex,endingindex,steps]\n",
        "a[0,1:6:2]"
      ]
    },
    {
      "cell_type": "code",
      "execution_count": 13,
      "metadata": {
        "colab": {
          "base_uri": "https://localhost:8080/"
        },
        "id": "i8aS_yOSvQnS",
        "outputId": "03762210-1a4c-4bbc-a45b-90ee421101bf"
      },
      "outputs": [
        {
          "output_type": "stream",
          "name": "stdout",
          "text": [
            "[[ 1  2  3  4  5  6  7]\n",
            " [ 8  9 10 11 12 90 14]]\n"
          ]
        }
      ],
      "source": [
        "# change the element in array in a specific points\n",
        "import numpy as np\n",
        "\n",
        "# Create a NumPy array\n",
        "a = np.array([[1, 2, 3, 4, 5, 6, 7], [8, 9, 10, 11, 12, 13, 14]])\n",
        "\n",
        "# Modify the element at row index 1 and column index 5\n",
        "a[1, 5] = 90\n",
        "\n",
        "# Print the array\n",
        "print(a)\n"
      ]
    },
    {
      "cell_type": "code",
      "execution_count": 14,
      "metadata": {
        "colab": {
          "base_uri": "https://localhost:8080/"
        },
        "id": "1fnbqDvkvtoh",
        "outputId": "9b237967-c56b-4f13-eaef-61f4a46f1ece"
      },
      "outputs": [
        {
          "output_type": "stream",
          "name": "stdout",
          "text": [
            "[[ 1  2  3  4  5  6  7]\n",
            " [ 8  9 10 11 12 90 14]]\n"
          ]
        }
      ],
      "source": [
        "print(a)"
      ]
    },
    {
      "cell_type": "code",
      "execution_count": 15,
      "metadata": {
        "colab": {
          "base_uri": "https://localhost:8080/"
        },
        "id": "IKdhiDGIv-2O",
        "outputId": "7c5bbd10-f01b-4230-fe4b-61f8e6b81a61"
      },
      "outputs": [
        {
          "output_type": "stream",
          "name": "stdout",
          "text": [
            "[[[1 2]\n",
            "  [3 5]\n",
            "  [5 7]]]\n",
            "3\n"
          ]
        }
      ],
      "source": [
        "# 3D example\n",
        "c=np.array([[[1,2],[3,5],[5,7]]])\n",
        "print(c)\n",
        "print(c.ndim)"
      ]
    },
    {
      "cell_type": "code",
      "execution_count": 16,
      "metadata": {
        "colab": {
          "base_uri": "https://localhost:8080/"
        },
        "id": "T_u0Ro86xEPK",
        "outputId": "759834ca-5c67-4ef6-f6ce-e13e0f0ed509"
      },
      "outputs": [
        {
          "output_type": "execute_result",
          "data": {
            "text/plain": [
              "2"
            ]
          },
          "metadata": {},
          "execution_count": 16
        }
      ],
      "source": [
        "c[0,0,1]"
      ]
    },
    {
      "cell_type": "markdown",
      "metadata": {
        "id": "uAZhBBaXyg8p"
      },
      "source": []
    },
    {
      "cell_type": "markdown",
      "metadata": {
        "id": "ZVJ3xEf1yjzf"
      },
      "source": []
    },
    {
      "cell_type": "markdown",
      "metadata": {
        "id": "YWjXN5axyqLQ"
      },
      "source": [
        "#  initializing diffrent types of Arrays"
      ]
    },
    {
      "cell_type": "code",
      "execution_count": 17,
      "metadata": {
        "colab": {
          "base_uri": "https://localhost:8080/"
        },
        "id": "qcl7iTi9yfVC",
        "outputId": "31781306-cd64-430f-e4dc-1327605bdca8"
      },
      "outputs": [
        {
          "output_type": "execute_result",
          "data": {
            "text/plain": [
              "array([0., 0., 0., 0., 0., 0., 0., 0.])"
            ]
          },
          "metadata": {},
          "execution_count": 17
        }
      ],
      "source": [
        "# all 0s matrix\n",
        "np.zeros(8)"
      ]
    },
    {
      "cell_type": "code",
      "execution_count": 18,
      "metadata": {
        "colab": {
          "base_uri": "https://localhost:8080/"
        },
        "id": "DUxklgTayo22",
        "outputId": "cb6b6eec-7159-4a2d-d63c-475dcb8ed4d4"
      },
      "outputs": [
        {
          "output_type": "execute_result",
          "data": {
            "text/plain": [
              "array([[0., 0., 0., 0., 0.],\n",
              "       [0., 0., 0., 0., 0.],\n",
              "       [0., 0., 0., 0., 0.]])"
            ]
          },
          "metadata": {},
          "execution_count": 18
        }
      ],
      "source": [
        "np.zeros((3,5))"
      ]
    },
    {
      "cell_type": "code",
      "execution_count": 19,
      "metadata": {
        "colab": {
          "base_uri": "https://localhost:8080/"
        },
        "id": "mM-CcYiHy6AD",
        "outputId": "92fded2f-160a-4d87-c3ac-ea217cfdd3ef"
      },
      "outputs": [
        {
          "output_type": "execute_result",
          "data": {
            "text/plain": [
              "array([[1., 1.],\n",
              "       [1., 1.],\n",
              "       [1., 1.],\n",
              "       [1., 1.]])"
            ]
          },
          "metadata": {},
          "execution_count": 19
        }
      ],
      "source": [
        "# all 1s matrix\n",
        "np.ones((4,2))"
      ]
    },
    {
      "cell_type": "code",
      "execution_count": 20,
      "metadata": {
        "colab": {
          "base_uri": "https://localhost:8080/"
        },
        "id": "5hOTnkAMzGkh",
        "outputId": "47d4a2c4-b317-4b4a-f910-4f51a8faeef0"
      },
      "outputs": [
        {
          "output_type": "execute_result",
          "data": {
            "text/plain": [
              "array([[9, 9],\n",
              "       [9, 9],\n",
              "       [9, 9]])"
            ]
          },
          "metadata": {},
          "execution_count": 20
        }
      ],
      "source": [
        "# Any other number\n",
        "np.full((3,2),9)"
      ]
    },
    {
      "cell_type": "code",
      "execution_count": 21,
      "metadata": {
        "colab": {
          "base_uri": "https://localhost:8080/"
        },
        "id": "huUfGgH3zSl5",
        "outputId": "498010d9-8b5e-48c7-9bb2-ddc408392a84"
      },
      "outputs": [
        {
          "output_type": "execute_result",
          "data": {
            "text/plain": [
              "array([[0.48839281, 0.98320217, 0.2936999 , 0.29106581],\n",
              "       [0.43144931, 0.74040146, 0.43733775, 0.53391654],\n",
              "       [0.92664026, 0.6563681 , 0.01252801, 0.76501891]])"
            ]
          },
          "metadata": {},
          "execution_count": 21
        }
      ],
      "source": [
        "# Random decimal number\n",
        "np.random.rand(3,4)"
      ]
    },
    {
      "cell_type": "code",
      "execution_count": 22,
      "metadata": {
        "colab": {
          "base_uri": "https://localhost:8080/"
        },
        "id": "AE44HRBF0R6v",
        "outputId": "4e98362c-68f5-4ccb-d259-0e060dc98edc"
      },
      "outputs": [
        {
          "output_type": "execute_result",
          "data": {
            "text/plain": [
              "array([[3, 2, 0, 0],\n",
              "       [0, 3, 2, 0],\n",
              "       [2, 1, 1, 1]])"
            ]
          },
          "metadata": {},
          "execution_count": 22
        }
      ],
      "source": [
        "# random integer\n",
        "np.random.randint(4,size=(3,4))"
      ]
    },
    {
      "cell_type": "code",
      "execution_count": 23,
      "metadata": {
        "id": "JLps7neS02kv",
        "colab": {
          "base_uri": "https://localhost:8080/"
        },
        "outputId": "31872d42-f6cc-43c9-98e6-aaf8e691d6ab"
      },
      "outputs": [
        {
          "output_type": "execute_result",
          "data": {
            "text/plain": [
              "array([[1., 0., 0., 0.],\n",
              "       [0., 1., 0., 0.],\n",
              "       [0., 0., 1., 0.],\n",
              "       [0., 0., 0., 1.]])"
            ]
          },
          "metadata": {},
          "execution_count": 23
        }
      ],
      "source": [
        "#The identity matrix\n",
        "# the daiognol elemnt are one the other are zero\n",
        "np.identity(4)"
      ]
    },
    {
      "cell_type": "markdown",
      "source": [],
      "metadata": {
        "id": "joNwFqeY7u_S"
      }
    },
    {
      "cell_type": "markdown",
      "source": [
        "# mathematics"
      ],
      "metadata": {
        "id": "xlb-VS437wOo"
      }
    },
    {
      "cell_type": "code",
      "source": [
        "# mathematics\n",
        "a=np.array([1,2,3])\n",
        "print(a)"
      ],
      "metadata": {
        "colab": {
          "base_uri": "https://localhost:8080/"
        },
        "id": "FynhQKoq1kxr",
        "outputId": "6fefe9d5-5787-4fed-b1ca-637dbac77dc4"
      },
      "execution_count": 24,
      "outputs": [
        {
          "output_type": "stream",
          "name": "stdout",
          "text": [
            "[1 2 3]\n"
          ]
        }
      ]
    },
    {
      "cell_type": "code",
      "source": [
        "a+2"
      ],
      "metadata": {
        "colab": {
          "base_uri": "https://localhost:8080/"
        },
        "id": "w0LwcUpM8CkW",
        "outputId": "55653e30-7422-4e29-e4b1-c4c8e59d631f"
      },
      "execution_count": 25,
      "outputs": [
        {
          "output_type": "execute_result",
          "data": {
            "text/plain": [
              "array([3, 4, 5])"
            ]
          },
          "metadata": {},
          "execution_count": 25
        }
      ]
    },
    {
      "cell_type": "code",
      "source": [
        "a*2"
      ],
      "metadata": {
        "colab": {
          "base_uri": "https://localhost:8080/"
        },
        "id": "odEJGPAy8DpZ",
        "outputId": "3966e395-ebfa-4e6e-b887-fe3fc103a605"
      },
      "execution_count": 26,
      "outputs": [
        {
          "output_type": "execute_result",
          "data": {
            "text/plain": [
              "array([2, 4, 6])"
            ]
          },
          "metadata": {},
          "execution_count": 26
        }
      ]
    },
    {
      "cell_type": "code",
      "source": [
        "a/4"
      ],
      "metadata": {
        "colab": {
          "base_uri": "https://localhost:8080/"
        },
        "id": "1Wjr8bk_8F5e",
        "outputId": "e0322922-a234-4f47-b74e-be561818d8a8"
      },
      "execution_count": 27,
      "outputs": [
        {
          "output_type": "execute_result",
          "data": {
            "text/plain": [
              "array([0.25, 0.5 , 0.75])"
            ]
          },
          "metadata": {},
          "execution_count": 27
        }
      ]
    },
    {
      "cell_type": "code",
      "source": [
        " # Addition of two Arrays\n",
        " a=np.array([3,5,4,2])\n",
        " b=np.array([5,3,2,1])\n",
        " print(a+b)"
      ],
      "metadata": {
        "colab": {
          "base_uri": "https://localhost:8080/"
        },
        "id": "IX40neW-8Izr",
        "outputId": "9105ccd3-77d2-4555-eb0b-9b2f3b2bc833"
      },
      "execution_count": 28,
      "outputs": [
        {
          "output_type": "stream",
          "name": "stdout",
          "text": [
            "[8 8 6 3]\n"
          ]
        }
      ]
    },
    {
      "cell_type": "code",
      "source": [
        "print(a-b)\n",
        "print(a/b)\n",
        "print(a*b)"
      ],
      "metadata": {
        "colab": {
          "base_uri": "https://localhost:8080/"
        },
        "id": "0F4kQDRm8l5g",
        "outputId": "7a3c989b-a8f4-426b-9384-1bbb7df7a9d8"
      },
      "execution_count": 29,
      "outputs": [
        {
          "output_type": "stream",
          "name": "stdout",
          "text": [
            "[-2  2  2  1]\n",
            "[0.6        1.66666667 2.         2.        ]\n",
            "[15 15  8  2]\n"
          ]
        }
      ]
    },
    {
      "cell_type": "code",
      "source": [
        "np.sin(a)"
      ],
      "metadata": {
        "colab": {
          "base_uri": "https://localhost:8080/"
        },
        "id": "jMg5o5V581Kx",
        "outputId": "1db21f6d-be45-43dc-dba6-96932d3f9c49"
      },
      "execution_count": 30,
      "outputs": [
        {
          "output_type": "execute_result",
          "data": {
            "text/plain": [
              "array([ 0.14112001, -0.95892427, -0.7568025 ,  0.90929743])"
            ]
          },
          "metadata": {},
          "execution_count": 30
        }
      ]
    },
    {
      "cell_type": "code",
      "source": [
        "np.cos(a)"
      ],
      "metadata": {
        "colab": {
          "base_uri": "https://localhost:8080/"
        },
        "id": "7TUUiAez9AKF",
        "outputId": "17564642-14c1-4421-af93-ebfed1f1dcce"
      },
      "execution_count": 31,
      "outputs": [
        {
          "output_type": "execute_result",
          "data": {
            "text/plain": [
              "array([-0.9899925 ,  0.28366219, -0.65364362, -0.41614684])"
            ]
          },
          "metadata": {},
          "execution_count": 31
        }
      ]
    },
    {
      "cell_type": "markdown",
      "source": [
        "# Linear algebra"
      ],
      "metadata": {
        "id": "Iyp5vjMW9OK8"
      }
    },
    {
      "cell_type": "code",
      "source": [
        "# Create a matrix\n",
        "A = np.array([[1, 2], [3, 4]])\n",
        "\n",
        "# Calculate the transpose\n",
        "A_T = np.transpose(A)\n",
        "print(\"Transpose:\\n\", A_T)\n",
        "\n",
        "# Calculate the determinant\n",
        "det = np.linalg.det(A)\n",
        "print(\"Determinant:\", det)\n",
        "\n",
        "# Calculate the inverse\n",
        "A_inv = np.linalg.inv(A)\n",
        "print(\"Inverse:\\n\", A_inv)\n",
        "\n",
        "# Perform matrix multiplication\n",
        "I = np.dot(A, A_inv)\n",
        "print(\"Product of A and its inverse (Identity Matrix):\\n\", I)\n",
        "\n",
        "# Calculate eigenvalues and eigenvectors\n",
        "eigenvalues, eigenvectors = np.linalg.eig(A)\n",
        "print(\"Eigenvalues:\", eigenvalues)\n",
        "print(\"Eigenvectors:\\n\", eigenvectors)\n"
      ],
      "metadata": {
        "colab": {
          "base_uri": "https://localhost:8080/"
        },
        "id": "WuuZQ0-W9KZd",
        "outputId": "8c62837a-6901-4ea1-a4fb-b0a7bf6c4d87"
      },
      "execution_count": 32,
      "outputs": [
        {
          "output_type": "stream",
          "name": "stdout",
          "text": [
            "Transpose:\n",
            " [[1 3]\n",
            " [2 4]]\n",
            "Determinant: -2.0000000000000004\n",
            "Inverse:\n",
            " [[-2.   1. ]\n",
            " [ 1.5 -0.5]]\n",
            "Product of A and its inverse (Identity Matrix):\n",
            " [[1.0000000e+00 0.0000000e+00]\n",
            " [8.8817842e-16 1.0000000e+00]]\n",
            "Eigenvalues: [-0.37228132  5.37228132]\n",
            "Eigenvectors:\n",
            " [[-0.82456484 -0.41597356]\n",
            " [ 0.56576746 -0.90937671]]\n"
          ]
        }
      ]
    },
    {
      "cell_type": "markdown",
      "source": [
        "# Statistics"
      ],
      "metadata": {
        "id": "TdzPBt8ZQn1L"
      }
    },
    {
      "cell_type": "code",
      "source": [
        "import numpy as np\n",
        "\n",
        "# Generate a random dataset\n",
        "np.random.seed(0)\n",
        "data = np.random.randn(1000)\n",
        "\n",
        "# Descriptive Statistics\n",
        "mean = np.mean(data)\n",
        "median = np.median(data)\n",
        "std_dev = np.std(data)\n",
        "variance = np.var(data)\n",
        "percentiles = np.percentile(data, [25, 50, 75])\n",
        "min_val = np.min(data)\n",
        "max_val = np.max(data)\n",
        "\n",
        "summary_stats = {\n",
        "    \"mean\": mean,\n",
        "    \"median\": median,\n",
        "    \"std_dev\": std_dev,\n",
        "    \"variance\": variance,\n",
        "    \"min\": min_val,\n",
        "    \"max\": max_val,\n",
        "    \"25th_percentile\": percentiles[0],\n",
        "    \"50th_percentile\": percentiles[1],\n",
        "    \"75th_percentile\": percentiles[2]\n",
        "}\n",
        "print(f\"Summary Statistics: {summary_stats}\")\n",
        "\n",
        "# Normal Distribution\n",
        "mu, sigma = 0, 0.1\n",
        "normal_dist = np.random.normal(mu, sigma, 1000)\n",
        "mean_normal = np.mean(normal_dist)\n",
        "std_dev_normal = np.std(normal_dist)\n",
        "print(f\"Normal Distribution Mean: {mean_normal}, Standard Deviation: {std_dev_normal}\")\n",
        "\n",
        "# Uniform Distribution\n",
        "uniform_dist = np.random.uniform(-1, 1, 1000)\n",
        "mean_uniform = np.mean(uniform_dist)\n",
        "std_dev_uniform = np.std(uniform_dist)\n",
        "print(f\"Uniform Distribution Mean: {mean_uniform}, Standard Deviation: {std_dev_uniform}\")\n",
        "\n",
        "# Correlation and Covariance\n",
        "x = np.random.rand(100)\n",
        "y = 2 * x + np.random.randn(100) * 0.1\n",
        "\n",
        "cov_matrix = np.cov(x, y)\n",
        "correlation = np.corrcoef(x, y)\n",
        "print(f\"Covariance Matrix:\\n{cov_matrix}\")\n",
        "print(f\"Correlation Coefficient:\\n{correlation}\")\n"
      ],
      "metadata": {
        "colab": {
          "base_uri": "https://localhost:8080/"
        },
        "id": "NE0IQV24Ppen",
        "outputId": "acdcb199-7109-4958-c587-f4bfe09052f5"
      },
      "execution_count": 33,
      "outputs": [
        {
          "output_type": "stream",
          "name": "stdout",
          "text": [
            "Summary Statistics: {'mean': -0.045256707490195384, 'median': -0.058028034799627745, 'std_dev': 0.9870331586690257, 'variance': 0.9742344563121542, 'min': -3.0461430547999266, 'max': 2.759355114021582, '25th_percentile': -0.6984200593598706, '50th_percentile': -0.058028034799627745, '75th_percentile': 0.6069506018883982}\n",
            "Normal Distribution Mean: 0.0013616940316163566, Standard Deviation: 0.09681599838264231\n",
            "Uniform Distribution Mean: 0.0009054088701296243, Standard Deviation: 0.5758328773084529\n",
            "Covariance Matrix:\n",
            "[[0.08560354 0.17298033]\n",
            " [0.17298033 0.35811031]]\n",
            "Correlation Coefficient:\n",
            "[[1.       0.987967]\n",
            " [0.987967 1.      ]]\n"
          ]
        }
      ]
    },
    {
      "cell_type": "markdown",
      "source": [
        "# Reorganizing Arrays"
      ],
      "metadata": {
        "id": "lica-At8RWDB"
      }
    },
    {
      "cell_type": "code",
      "source": [
        "before=np.array([[1,2,3,4],[5,6,7,8]])\n",
        "print(before)\n",
        "after=before.reshape((8,1))\n",
        "print(after)"
      ],
      "metadata": {
        "colab": {
          "base_uri": "https://localhost:8080/"
        },
        "id": "T-8tDQXfQrR4",
        "outputId": "3617f28b-11e5-4036-ac26-188dfc7b65ad"
      },
      "execution_count": 37,
      "outputs": [
        {
          "output_type": "stream",
          "name": "stdout",
          "text": [
            "[[1 2 3 4]\n",
            " [5 6 7 8]]\n",
            "[[1]\n",
            " [2]\n",
            " [3]\n",
            " [4]\n",
            " [5]\n",
            " [6]\n",
            " [7]\n",
            " [8]]\n"
          ]
        }
      ]
    },
    {
      "cell_type": "code",
      "source": [],
      "metadata": {
        "id": "juh5PJiiSRBJ"
      },
      "execution_count": null,
      "outputs": []
    }
  ],
  "metadata": {
    "colab": {
      "provenance": []
    },
    "kernelspec": {
      "display_name": "Python 3",
      "name": "python3"
    },
    "language_info": {
      "name": "python"
    }
  },
  "nbformat": 4,
  "nbformat_minor": 0
}